{
  "metadata": {
    "kernelspec": {
      "language": "python",
      "display_name": "Python 3",
      "name": "python3"
    },
    "language_info": {
      "name": "python",
      "version": "3.10.12",
      "mimetype": "text/x-python",
      "codemirror_mode": {
        "name": "ipython",
        "version": 3
      },
      "pygments_lexer": "ipython3",
      "nbconvert_exporter": "python",
      "file_extension": ".py"
    },
    "kaggle": {
      "accelerator": "none",
      "dataSources": [
        {
          "sourceId": 2047221,
          "sourceType": "datasetVersion",
          "datasetId": 1226038
        }
      ],
      "dockerImageVersionId": 30558,
      "isInternetEnabled": false,
      "language": "python",
      "sourceType": "notebook",
      "isGpuEnabled": false
    },
    "colab": {
      "provenance": []
    }
  },
  "nbformat_minor": 0,
  "nbformat": 4,
  "cells": [
    {
      "cell_type": "code",
      "source": [
        "import pandas as pd\n",
        "import numpy as np\n",
        "import matplotlib.pyplot as plt\n",
        "import seaborn as sns\n",
        "from sklearn.preprocessing import StandardScaler,LabelEncoder\n",
        "from sklearn.model_selection import train_test_split, cross_validate\n",
        "from sklearn.linear_model import LogisticRegression\n",
        "from sklearn.tree import DecisionTreeClassifier\n",
        "from sklearn.ensemble import RandomForestClassifier\n",
        "pd.set_option('display.max_columns', None)\n",
        "pd.set_option('display.width', 500)\n",
        "pd.set_option('display.float_format',  '{:.2f}'.format)"
      ],
      "metadata": {
        "_uuid": "8f2839f25d086af736a60e9eeb907d3b93b6e0e5",
        "_cell_guid": "b1076dfc-b9ad-4769-8c92-a6c4dae69d19",
        "execution": {
          "iopub.status.busy": "2023-11-01T03:30:38.445677Z",
          "iopub.execute_input": "2023-11-01T03:30:38.446136Z",
          "iopub.status.idle": "2023-11-01T03:30:42.352621Z",
          "shell.execute_reply.started": "2023-11-01T03:30:38.446088Z",
          "shell.execute_reply": "2023-11-01T03:30:42.351350Z"
        },
        "trusted": true,
        "id": "Q2qoDx7iP-Zh"
      },
      "execution_count": 1,
      "outputs": []
    },
    {
      "cell_type": "code",
      "source": [
        "df = pd.read_csv(\"/content/heart.csv\")\n",
        "df_copy = df.copy()\n",
        "df_copy.head()"
      ],
      "metadata": {
        "execution": {
          "iopub.status.busy": "2023-11-01T03:30:46.810723Z",
          "iopub.execute_input": "2023-11-01T03:30:46.811186Z",
          "iopub.status.idle": "2023-11-01T03:30:46.855690Z",
          "shell.execute_reply.started": "2023-11-01T03:30:46.811154Z",
          "shell.execute_reply": "2023-11-01T03:30:46.854230Z"
        },
        "trusted": true,
        "colab": {
          "base_uri": "https://localhost:8080/",
          "height": 206
        },
        "id": "FJSpJRWeP-Zh",
        "outputId": "6f3d2ba6-4a75-4aa6-8856-755dcfefab25"
      },
      "execution_count": 2,
      "outputs": [
        {
          "output_type": "execute_result",
          "data": {
            "text/plain": [
              "   age  sex  cp  trtbps  chol  fbs  restecg  thalachh  exng  oldpeak  slp  caa  thall  output\n",
              "0   63    1   3     145   233    1        0       150     0     2.30    0    0      1       1\n",
              "1   37    1   2     130   250    0        1       187     0     3.50    0    0      2       1\n",
              "2   41    0   1     130   204    0        0       172     0     1.40    2    0      2       1\n",
              "3   56    1   1     120   236    0        1       178     0     0.80    2    0      2       1\n",
              "4   57    0   0     120   354    0        1       163     1     0.60    2    0      2       1"
            ],
            "text/html": [
              "\n",
              "  <div id=\"df-e7b408e8-a9d8-4b3e-8a96-736a8218bf0a\" class=\"colab-df-container\">\n",
              "    <div>\n",
              "<style scoped>\n",
              "    .dataframe tbody tr th:only-of-type {\n",
              "        vertical-align: middle;\n",
              "    }\n",
              "\n",
              "    .dataframe tbody tr th {\n",
              "        vertical-align: top;\n",
              "    }\n",
              "\n",
              "    .dataframe thead th {\n",
              "        text-align: right;\n",
              "    }\n",
              "</style>\n",
              "<table border=\"1\" class=\"dataframe\">\n",
              "  <thead>\n",
              "    <tr style=\"text-align: right;\">\n",
              "      <th></th>\n",
              "      <th>age</th>\n",
              "      <th>sex</th>\n",
              "      <th>cp</th>\n",
              "      <th>trtbps</th>\n",
              "      <th>chol</th>\n",
              "      <th>fbs</th>\n",
              "      <th>restecg</th>\n",
              "      <th>thalachh</th>\n",
              "      <th>exng</th>\n",
              "      <th>oldpeak</th>\n",
              "      <th>slp</th>\n",
              "      <th>caa</th>\n",
              "      <th>thall</th>\n",
              "      <th>output</th>\n",
              "    </tr>\n",
              "  </thead>\n",
              "  <tbody>\n",
              "    <tr>\n",
              "      <th>0</th>\n",
              "      <td>63</td>\n",
              "      <td>1</td>\n",
              "      <td>3</td>\n",
              "      <td>145</td>\n",
              "      <td>233</td>\n",
              "      <td>1</td>\n",
              "      <td>0</td>\n",
              "      <td>150</td>\n",
              "      <td>0</td>\n",
              "      <td>2.30</td>\n",
              "      <td>0</td>\n",
              "      <td>0</td>\n",
              "      <td>1</td>\n",
              "      <td>1</td>\n",
              "    </tr>\n",
              "    <tr>\n",
              "      <th>1</th>\n",
              "      <td>37</td>\n",
              "      <td>1</td>\n",
              "      <td>2</td>\n",
              "      <td>130</td>\n",
              "      <td>250</td>\n",
              "      <td>0</td>\n",
              "      <td>1</td>\n",
              "      <td>187</td>\n",
              "      <td>0</td>\n",
              "      <td>3.50</td>\n",
              "      <td>0</td>\n",
              "      <td>0</td>\n",
              "      <td>2</td>\n",
              "      <td>1</td>\n",
              "    </tr>\n",
              "    <tr>\n",
              "      <th>2</th>\n",
              "      <td>41</td>\n",
              "      <td>0</td>\n",
              "      <td>1</td>\n",
              "      <td>130</td>\n",
              "      <td>204</td>\n",
              "      <td>0</td>\n",
              "      <td>0</td>\n",
              "      <td>172</td>\n",
              "      <td>0</td>\n",
              "      <td>1.40</td>\n",
              "      <td>2</td>\n",
              "      <td>0</td>\n",
              "      <td>2</td>\n",
              "      <td>1</td>\n",
              "    </tr>\n",
              "    <tr>\n",
              "      <th>3</th>\n",
              "      <td>56</td>\n",
              "      <td>1</td>\n",
              "      <td>1</td>\n",
              "      <td>120</td>\n",
              "      <td>236</td>\n",
              "      <td>0</td>\n",
              "      <td>1</td>\n",
              "      <td>178</td>\n",
              "      <td>0</td>\n",
              "      <td>0.80</td>\n",
              "      <td>2</td>\n",
              "      <td>0</td>\n",
              "      <td>2</td>\n",
              "      <td>1</td>\n",
              "    </tr>\n",
              "    <tr>\n",
              "      <th>4</th>\n",
              "      <td>57</td>\n",
              "      <td>0</td>\n",
              "      <td>0</td>\n",
              "      <td>120</td>\n",
              "      <td>354</td>\n",
              "      <td>0</td>\n",
              "      <td>1</td>\n",
              "      <td>163</td>\n",
              "      <td>1</td>\n",
              "      <td>0.60</td>\n",
              "      <td>2</td>\n",
              "      <td>0</td>\n",
              "      <td>2</td>\n",
              "      <td>1</td>\n",
              "    </tr>\n",
              "  </tbody>\n",
              "</table>\n",
              "</div>\n",
              "    <div class=\"colab-df-buttons\">\n",
              "\n",
              "  <div class=\"colab-df-container\">\n",
              "    <button class=\"colab-df-convert\" onclick=\"convertToInteractive('df-e7b408e8-a9d8-4b3e-8a96-736a8218bf0a')\"\n",
              "            title=\"Convert this dataframe to an interactive table.\"\n",
              "            style=\"display:none;\">\n",
              "\n",
              "  <svg xmlns=\"http://www.w3.org/2000/svg\" height=\"24px\" viewBox=\"0 -960 960 960\">\n",
              "    <path d=\"M120-120v-720h720v720H120Zm60-500h600v-160H180v160Zm220 220h160v-160H400v160Zm0 220h160v-160H400v160ZM180-400h160v-160H180v160Zm440 0h160v-160H620v160ZM180-180h160v-160H180v160Zm440 0h160v-160H620v160Z\"/>\n",
              "  </svg>\n",
              "    </button>\n",
              "\n",
              "  <style>\n",
              "    .colab-df-container {\n",
              "      display:flex;\n",
              "      gap: 12px;\n",
              "    }\n",
              "\n",
              "    .colab-df-convert {\n",
              "      background-color: #E8F0FE;\n",
              "      border: none;\n",
              "      border-radius: 50%;\n",
              "      cursor: pointer;\n",
              "      display: none;\n",
              "      fill: #1967D2;\n",
              "      height: 32px;\n",
              "      padding: 0 0 0 0;\n",
              "      width: 32px;\n",
              "    }\n",
              "\n",
              "    .colab-df-convert:hover {\n",
              "      background-color: #E2EBFA;\n",
              "      box-shadow: 0px 1px 2px rgba(60, 64, 67, 0.3), 0px 1px 3px 1px rgba(60, 64, 67, 0.15);\n",
              "      fill: #174EA6;\n",
              "    }\n",
              "\n",
              "    .colab-df-buttons div {\n",
              "      margin-bottom: 4px;\n",
              "    }\n",
              "\n",
              "    [theme=dark] .colab-df-convert {\n",
              "      background-color: #3B4455;\n",
              "      fill: #D2E3FC;\n",
              "    }\n",
              "\n",
              "    [theme=dark] .colab-df-convert:hover {\n",
              "      background-color: #434B5C;\n",
              "      box-shadow: 0px 1px 3px 1px rgba(0, 0, 0, 0.15);\n",
              "      filter: drop-shadow(0px 1px 2px rgba(0, 0, 0, 0.3));\n",
              "      fill: #FFFFFF;\n",
              "    }\n",
              "  </style>\n",
              "\n",
              "    <script>\n",
              "      const buttonEl =\n",
              "        document.querySelector('#df-e7b408e8-a9d8-4b3e-8a96-736a8218bf0a button.colab-df-convert');\n",
              "      buttonEl.style.display =\n",
              "        google.colab.kernel.accessAllowed ? 'block' : 'none';\n",
              "\n",
              "      async function convertToInteractive(key) {\n",
              "        const element = document.querySelector('#df-e7b408e8-a9d8-4b3e-8a96-736a8218bf0a');\n",
              "        const dataTable =\n",
              "          await google.colab.kernel.invokeFunction('convertToInteractive',\n",
              "                                                    [key], {});\n",
              "        if (!dataTable) return;\n",
              "\n",
              "        const docLinkHtml = 'Like what you see? Visit the ' +\n",
              "          '<a target=\"_blank\" href=https://colab.research.google.com/notebooks/data_table.ipynb>data table notebook</a>'\n",
              "          + ' to learn more about interactive tables.';\n",
              "        element.innerHTML = '';\n",
              "        dataTable['output_type'] = 'display_data';\n",
              "        await google.colab.output.renderOutput(dataTable, element);\n",
              "        const docLink = document.createElement('div');\n",
              "        docLink.innerHTML = docLinkHtml;\n",
              "        element.appendChild(docLink);\n",
              "      }\n",
              "    </script>\n",
              "  </div>\n",
              "\n",
              "\n",
              "<div id=\"df-c11e2bcf-9012-4fcf-8134-1d4bb57e1553\">\n",
              "  <button class=\"colab-df-quickchart\" onclick=\"quickchart('df-c11e2bcf-9012-4fcf-8134-1d4bb57e1553')\"\n",
              "            title=\"Suggest charts\"\n",
              "            style=\"display:none;\">\n",
              "\n",
              "<svg xmlns=\"http://www.w3.org/2000/svg\" height=\"24px\"viewBox=\"0 0 24 24\"\n",
              "     width=\"24px\">\n",
              "    <g>\n",
              "        <path d=\"M19 3H5c-1.1 0-2 .9-2 2v14c0 1.1.9 2 2 2h14c1.1 0 2-.9 2-2V5c0-1.1-.9-2-2-2zM9 17H7v-7h2v7zm4 0h-2V7h2v10zm4 0h-2v-4h2v4z\"/>\n",
              "    </g>\n",
              "</svg>\n",
              "  </button>\n",
              "\n",
              "<style>\n",
              "  .colab-df-quickchart {\n",
              "      --bg-color: #E8F0FE;\n",
              "      --fill-color: #1967D2;\n",
              "      --hover-bg-color: #E2EBFA;\n",
              "      --hover-fill-color: #174EA6;\n",
              "      --disabled-fill-color: #AAA;\n",
              "      --disabled-bg-color: #DDD;\n",
              "  }\n",
              "\n",
              "  [theme=dark] .colab-df-quickchart {\n",
              "      --bg-color: #3B4455;\n",
              "      --fill-color: #D2E3FC;\n",
              "      --hover-bg-color: #434B5C;\n",
              "      --hover-fill-color: #FFFFFF;\n",
              "      --disabled-bg-color: #3B4455;\n",
              "      --disabled-fill-color: #666;\n",
              "  }\n",
              "\n",
              "  .colab-df-quickchart {\n",
              "    background-color: var(--bg-color);\n",
              "    border: none;\n",
              "    border-radius: 50%;\n",
              "    cursor: pointer;\n",
              "    display: none;\n",
              "    fill: var(--fill-color);\n",
              "    height: 32px;\n",
              "    padding: 0;\n",
              "    width: 32px;\n",
              "  }\n",
              "\n",
              "  .colab-df-quickchart:hover {\n",
              "    background-color: var(--hover-bg-color);\n",
              "    box-shadow: 0 1px 2px rgba(60, 64, 67, 0.3), 0 1px 3px 1px rgba(60, 64, 67, 0.15);\n",
              "    fill: var(--button-hover-fill-color);\n",
              "  }\n",
              "\n",
              "  .colab-df-quickchart-complete:disabled,\n",
              "  .colab-df-quickchart-complete:disabled:hover {\n",
              "    background-color: var(--disabled-bg-color);\n",
              "    fill: var(--disabled-fill-color);\n",
              "    box-shadow: none;\n",
              "  }\n",
              "\n",
              "  .colab-df-spinner {\n",
              "    border: 2px solid var(--fill-color);\n",
              "    border-color: transparent;\n",
              "    border-bottom-color: var(--fill-color);\n",
              "    animation:\n",
              "      spin 1s steps(1) infinite;\n",
              "  }\n",
              "\n",
              "  @keyframes spin {\n",
              "    0% {\n",
              "      border-color: transparent;\n",
              "      border-bottom-color: var(--fill-color);\n",
              "      border-left-color: var(--fill-color);\n",
              "    }\n",
              "    20% {\n",
              "      border-color: transparent;\n",
              "      border-left-color: var(--fill-color);\n",
              "      border-top-color: var(--fill-color);\n",
              "    }\n",
              "    30% {\n",
              "      border-color: transparent;\n",
              "      border-left-color: var(--fill-color);\n",
              "      border-top-color: var(--fill-color);\n",
              "      border-right-color: var(--fill-color);\n",
              "    }\n",
              "    40% {\n",
              "      border-color: transparent;\n",
              "      border-right-color: var(--fill-color);\n",
              "      border-top-color: var(--fill-color);\n",
              "    }\n",
              "    60% {\n",
              "      border-color: transparent;\n",
              "      border-right-color: var(--fill-color);\n",
              "    }\n",
              "    80% {\n",
              "      border-color: transparent;\n",
              "      border-right-color: var(--fill-color);\n",
              "      border-bottom-color: var(--fill-color);\n",
              "    }\n",
              "    90% {\n",
              "      border-color: transparent;\n",
              "      border-bottom-color: var(--fill-color);\n",
              "    }\n",
              "  }\n",
              "</style>\n",
              "\n",
              "  <script>\n",
              "    async function quickchart(key) {\n",
              "      const quickchartButtonEl =\n",
              "        document.querySelector('#' + key + ' button');\n",
              "      quickchartButtonEl.disabled = true;  // To prevent multiple clicks.\n",
              "      quickchartButtonEl.classList.add('colab-df-spinner');\n",
              "      try {\n",
              "        const charts = await google.colab.kernel.invokeFunction(\n",
              "            'suggestCharts', [key], {});\n",
              "      } catch (error) {\n",
              "        console.error('Error during call to suggestCharts:', error);\n",
              "      }\n",
              "      quickchartButtonEl.classList.remove('colab-df-spinner');\n",
              "      quickchartButtonEl.classList.add('colab-df-quickchart-complete');\n",
              "    }\n",
              "    (() => {\n",
              "      let quickchartButtonEl =\n",
              "        document.querySelector('#df-c11e2bcf-9012-4fcf-8134-1d4bb57e1553 button');\n",
              "      quickchartButtonEl.style.display =\n",
              "        google.colab.kernel.accessAllowed ? 'block' : 'none';\n",
              "    })();\n",
              "  </script>\n",
              "</div>\n",
              "\n",
              "    </div>\n",
              "  </div>\n"
            ]
          },
          "metadata": {},
          "execution_count": 2
        }
      ]
    },
    {
      "cell_type": "markdown",
      "source": [
        "<a id=\"section-one\"></a>\n",
        "# **EDA**"
      ],
      "metadata": {
        "id": "I8bkTgIWP-Zi"
      }
    },
    {
      "cell_type": "code",
      "source": [
        "df_copy.info()"
      ],
      "metadata": {
        "execution": {
          "iopub.status.busy": "2023-11-01T03:30:49.740307Z",
          "iopub.execute_input": "2023-11-01T03:30:49.740770Z",
          "iopub.status.idle": "2023-11-01T03:30:49.773304Z",
          "shell.execute_reply.started": "2023-11-01T03:30:49.740735Z",
          "shell.execute_reply": "2023-11-01T03:30:49.772438Z"
        },
        "trusted": true,
        "colab": {
          "base_uri": "https://localhost:8080/"
        },
        "id": "yc_ggvLxP-Zj",
        "outputId": "74a9a1d4-6b96-4116-d646-f5caca5dda39"
      },
      "execution_count": 3,
      "outputs": [
        {
          "output_type": "stream",
          "name": "stdout",
          "text": [
            "<class 'pandas.core.frame.DataFrame'>\n",
            "RangeIndex: 303 entries, 0 to 302\n",
            "Data columns (total 14 columns):\n",
            " #   Column    Non-Null Count  Dtype  \n",
            "---  ------    --------------  -----  \n",
            " 0   age       303 non-null    int64  \n",
            " 1   sex       303 non-null    int64  \n",
            " 2   cp        303 non-null    int64  \n",
            " 3   trtbps    303 non-null    int64  \n",
            " 4   chol      303 non-null    int64  \n",
            " 5   fbs       303 non-null    int64  \n",
            " 6   restecg   303 non-null    int64  \n",
            " 7   thalachh  303 non-null    int64  \n",
            " 8   exng      303 non-null    int64  \n",
            " 9   oldpeak   303 non-null    float64\n",
            " 10  slp       303 non-null    int64  \n",
            " 11  caa       303 non-null    int64  \n",
            " 12  thall     303 non-null    int64  \n",
            " 13  output    303 non-null    int64  \n",
            "dtypes: float64(1), int64(13)\n",
            "memory usage: 33.3 KB\n"
          ]
        }
      ]
    },
    {
      "cell_type": "code",
      "source": [
        "print(f'Shape     : {df_copy.shape}\\n'\n",
        "      f'Size      : {df_copy.size}\\n'\n",
        "      f'Dimension : {df_copy.ndim}')"
      ],
      "metadata": {
        "execution": {
          "iopub.status.busy": "2023-11-01T03:30:52.405773Z",
          "iopub.execute_input": "2023-11-01T03:30:52.406346Z",
          "iopub.status.idle": "2023-11-01T03:30:52.414780Z",
          "shell.execute_reply.started": "2023-11-01T03:30:52.406297Z",
          "shell.execute_reply": "2023-11-01T03:30:52.413247Z"
        },
        "trusted": true,
        "colab": {
          "base_uri": "https://localhost:8080/"
        },
        "id": "X0Bf0VGiP-Zj",
        "outputId": "2d92f71d-fef5-48ec-bd39-24f2876eafac"
      },
      "execution_count": 4,
      "outputs": [
        {
          "output_type": "stream",
          "name": "stdout",
          "text": [
            "Shape     : (303, 14)\n",
            "Size      : 4242\n",
            "Dimension : 2\n"
          ]
        }
      ]
    },
    {
      "cell_type": "code",
      "source": [
        "df_copy.isnull().sum()"
      ],
      "metadata": {
        "execution": {
          "iopub.status.busy": "2023-11-01T03:30:55.730124Z",
          "iopub.execute_input": "2023-11-01T03:30:55.730571Z",
          "iopub.status.idle": "2023-11-01T03:30:55.741178Z",
          "shell.execute_reply.started": "2023-11-01T03:30:55.730539Z",
          "shell.execute_reply": "2023-11-01T03:30:55.739966Z"
        },
        "trusted": true,
        "colab": {
          "base_uri": "https://localhost:8080/"
        },
        "id": "96tLOIdLP-Zj",
        "outputId": "ecce260a-cf9e-4321-c461-db92fe6dcbbe"
      },
      "execution_count": 5,
      "outputs": [
        {
          "output_type": "execute_result",
          "data": {
            "text/plain": [
              "age         0\n",
              "sex         0\n",
              "cp          0\n",
              "trtbps      0\n",
              "chol        0\n",
              "fbs         0\n",
              "restecg     0\n",
              "thalachh    0\n",
              "exng        0\n",
              "oldpeak     0\n",
              "slp         0\n",
              "caa         0\n",
              "thall       0\n",
              "output      0\n",
              "dtype: int64"
            ]
          },
          "metadata": {},
          "execution_count": 5
        }
      ]
    },
    {
      "cell_type": "code",
      "source": [
        "df_copy.duplicated().sum()"
      ],
      "metadata": {
        "execution": {
          "iopub.status.busy": "2023-11-01T03:31:01.224748Z",
          "iopub.execute_input": "2023-11-01T03:31:01.225743Z",
          "iopub.status.idle": "2023-11-01T03:31:01.240067Z",
          "shell.execute_reply.started": "2023-11-01T03:31:01.225698Z",
          "shell.execute_reply": "2023-11-01T03:31:01.238613Z"
        },
        "trusted": true,
        "colab": {
          "base_uri": "https://localhost:8080/"
        },
        "id": "Ij2JQV1sP-Zj",
        "outputId": "dafacc85-7533-408e-cf0b-847899188c99"
      },
      "execution_count": 6,
      "outputs": [
        {
          "output_type": "execute_result",
          "data": {
            "text/plain": [
              "1"
            ]
          },
          "metadata": {},
          "execution_count": 6
        }
      ]
    },
    {
      "cell_type": "code",
      "source": [
        "df_copy.loc[df_copy.duplicated(keep=False), :]"
      ],
      "metadata": {
        "execution": {
          "iopub.status.busy": "2023-10-31T10:52:30.391073Z",
          "iopub.execute_input": "2023-10-31T10:52:30.392366Z",
          "iopub.status.idle": "2023-10-31T10:52:30.415145Z",
          "shell.execute_reply.started": "2023-10-31T10:52:30.392333Z",
          "shell.execute_reply": "2023-10-31T10:52:30.413145Z"
        },
        "trusted": true,
        "colab": {
          "base_uri": "https://localhost:8080/",
          "height": 112
        },
        "id": "aNfoVUqZP-Zk",
        "outputId": "892d8474-826b-4400-ab3e-98939b94f6bc"
      },
      "execution_count": 7,
      "outputs": [
        {
          "output_type": "execute_result",
          "data": {
            "text/plain": [
              "     age  sex  cp  trtbps  chol  fbs  restecg  thalachh  exng  oldpeak  slp  caa  thall  output\n",
              "163   38    1   2     138   175    0        1       173     0     0.00    2    4      2       1\n",
              "164   38    1   2     138   175    0        1       173     0     0.00    2    4      2       1"
            ],
            "text/html": [
              "\n",
              "  <div id=\"df-d14559a8-e955-4fa1-83cb-375fb1bb1a87\" class=\"colab-df-container\">\n",
              "    <div>\n",
              "<style scoped>\n",
              "    .dataframe tbody tr th:only-of-type {\n",
              "        vertical-align: middle;\n",
              "    }\n",
              "\n",
              "    .dataframe tbody tr th {\n",
              "        vertical-align: top;\n",
              "    }\n",
              "\n",
              "    .dataframe thead th {\n",
              "        text-align: right;\n",
              "    }\n",
              "</style>\n",
              "<table border=\"1\" class=\"dataframe\">\n",
              "  <thead>\n",
              "    <tr style=\"text-align: right;\">\n",
              "      <th></th>\n",
              "      <th>age</th>\n",
              "      <th>sex</th>\n",
              "      <th>cp</th>\n",
              "      <th>trtbps</th>\n",
              "      <th>chol</th>\n",
              "      <th>fbs</th>\n",
              "      <th>restecg</th>\n",
              "      <th>thalachh</th>\n",
              "      <th>exng</th>\n",
              "      <th>oldpeak</th>\n",
              "      <th>slp</th>\n",
              "      <th>caa</th>\n",
              "      <th>thall</th>\n",
              "      <th>output</th>\n",
              "    </tr>\n",
              "  </thead>\n",
              "  <tbody>\n",
              "    <tr>\n",
              "      <th>163</th>\n",
              "      <td>38</td>\n",
              "      <td>1</td>\n",
              "      <td>2</td>\n",
              "      <td>138</td>\n",
              "      <td>175</td>\n",
              "      <td>0</td>\n",
              "      <td>1</td>\n",
              "      <td>173</td>\n",
              "      <td>0</td>\n",
              "      <td>0.00</td>\n",
              "      <td>2</td>\n",
              "      <td>4</td>\n",
              "      <td>2</td>\n",
              "      <td>1</td>\n",
              "    </tr>\n",
              "    <tr>\n",
              "      <th>164</th>\n",
              "      <td>38</td>\n",
              "      <td>1</td>\n",
              "      <td>2</td>\n",
              "      <td>138</td>\n",
              "      <td>175</td>\n",
              "      <td>0</td>\n",
              "      <td>1</td>\n",
              "      <td>173</td>\n",
              "      <td>0</td>\n",
              "      <td>0.00</td>\n",
              "      <td>2</td>\n",
              "      <td>4</td>\n",
              "      <td>2</td>\n",
              "      <td>1</td>\n",
              "    </tr>\n",
              "  </tbody>\n",
              "</table>\n",
              "</div>\n",
              "    <div class=\"colab-df-buttons\">\n",
              "\n",
              "  <div class=\"colab-df-container\">\n",
              "    <button class=\"colab-df-convert\" onclick=\"convertToInteractive('df-d14559a8-e955-4fa1-83cb-375fb1bb1a87')\"\n",
              "            title=\"Convert this dataframe to an interactive table.\"\n",
              "            style=\"display:none;\">\n",
              "\n",
              "  <svg xmlns=\"http://www.w3.org/2000/svg\" height=\"24px\" viewBox=\"0 -960 960 960\">\n",
              "    <path d=\"M120-120v-720h720v720H120Zm60-500h600v-160H180v160Zm220 220h160v-160H400v160Zm0 220h160v-160H400v160ZM180-400h160v-160H180v160Zm440 0h160v-160H620v160ZM180-180h160v-160H180v160Zm440 0h160v-160H620v160Z\"/>\n",
              "  </svg>\n",
              "    </button>\n",
              "\n",
              "  <style>\n",
              "    .colab-df-container {\n",
              "      display:flex;\n",
              "      gap: 12px;\n",
              "    }\n",
              "\n",
              "    .colab-df-convert {\n",
              "      background-color: #E8F0FE;\n",
              "      border: none;\n",
              "      border-radius: 50%;\n",
              "      cursor: pointer;\n",
              "      display: none;\n",
              "      fill: #1967D2;\n",
              "      height: 32px;\n",
              "      padding: 0 0 0 0;\n",
              "      width: 32px;\n",
              "    }\n",
              "\n",
              "    .colab-df-convert:hover {\n",
              "      background-color: #E2EBFA;\n",
              "      box-shadow: 0px 1px 2px rgba(60, 64, 67, 0.3), 0px 1px 3px 1px rgba(60, 64, 67, 0.15);\n",
              "      fill: #174EA6;\n",
              "    }\n",
              "\n",
              "    .colab-df-buttons div {\n",
              "      margin-bottom: 4px;\n",
              "    }\n",
              "\n",
              "    [theme=dark] .colab-df-convert {\n",
              "      background-color: #3B4455;\n",
              "      fill: #D2E3FC;\n",
              "    }\n",
              "\n",
              "    [theme=dark] .colab-df-convert:hover {\n",
              "      background-color: #434B5C;\n",
              "      box-shadow: 0px 1px 3px 1px rgba(0, 0, 0, 0.15);\n",
              "      filter: drop-shadow(0px 1px 2px rgba(0, 0, 0, 0.3));\n",
              "      fill: #FFFFFF;\n",
              "    }\n",
              "  </style>\n",
              "\n",
              "    <script>\n",
              "      const buttonEl =\n",
              "        document.querySelector('#df-d14559a8-e955-4fa1-83cb-375fb1bb1a87 button.colab-df-convert');\n",
              "      buttonEl.style.display =\n",
              "        google.colab.kernel.accessAllowed ? 'block' : 'none';\n",
              "\n",
              "      async function convertToInteractive(key) {\n",
              "        const element = document.querySelector('#df-d14559a8-e955-4fa1-83cb-375fb1bb1a87');\n",
              "        const dataTable =\n",
              "          await google.colab.kernel.invokeFunction('convertToInteractive',\n",
              "                                                    [key], {});\n",
              "        if (!dataTable) return;\n",
              "\n",
              "        const docLinkHtml = 'Like what you see? Visit the ' +\n",
              "          '<a target=\"_blank\" href=https://colab.research.google.com/notebooks/data_table.ipynb>data table notebook</a>'\n",
              "          + ' to learn more about interactive tables.';\n",
              "        element.innerHTML = '';\n",
              "        dataTable['output_type'] = 'display_data';\n",
              "        await google.colab.output.renderOutput(dataTable, element);\n",
              "        const docLink = document.createElement('div');\n",
              "        docLink.innerHTML = docLinkHtml;\n",
              "        element.appendChild(docLink);\n",
              "      }\n",
              "    </script>\n",
              "  </div>\n",
              "\n",
              "\n",
              "<div id=\"df-e5272e4a-5f97-410e-adca-b31f52c73a7e\">\n",
              "  <button class=\"colab-df-quickchart\" onclick=\"quickchart('df-e5272e4a-5f97-410e-adca-b31f52c73a7e')\"\n",
              "            title=\"Suggest charts\"\n",
              "            style=\"display:none;\">\n",
              "\n",
              "<svg xmlns=\"http://www.w3.org/2000/svg\" height=\"24px\"viewBox=\"0 0 24 24\"\n",
              "     width=\"24px\">\n",
              "    <g>\n",
              "        <path d=\"M19 3H5c-1.1 0-2 .9-2 2v14c0 1.1.9 2 2 2h14c1.1 0 2-.9 2-2V5c0-1.1-.9-2-2-2zM9 17H7v-7h2v7zm4 0h-2V7h2v10zm4 0h-2v-4h2v4z\"/>\n",
              "    </g>\n",
              "</svg>\n",
              "  </button>\n",
              "\n",
              "<style>\n",
              "  .colab-df-quickchart {\n",
              "      --bg-color: #E8F0FE;\n",
              "      --fill-color: #1967D2;\n",
              "      --hover-bg-color: #E2EBFA;\n",
              "      --hover-fill-color: #174EA6;\n",
              "      --disabled-fill-color: #AAA;\n",
              "      --disabled-bg-color: #DDD;\n",
              "  }\n",
              "\n",
              "  [theme=dark] .colab-df-quickchart {\n",
              "      --bg-color: #3B4455;\n",
              "      --fill-color: #D2E3FC;\n",
              "      --hover-bg-color: #434B5C;\n",
              "      --hover-fill-color: #FFFFFF;\n",
              "      --disabled-bg-color: #3B4455;\n",
              "      --disabled-fill-color: #666;\n",
              "  }\n",
              "\n",
              "  .colab-df-quickchart {\n",
              "    background-color: var(--bg-color);\n",
              "    border: none;\n",
              "    border-radius: 50%;\n",
              "    cursor: pointer;\n",
              "    display: none;\n",
              "    fill: var(--fill-color);\n",
              "    height: 32px;\n",
              "    padding: 0;\n",
              "    width: 32px;\n",
              "  }\n",
              "\n",
              "  .colab-df-quickchart:hover {\n",
              "    background-color: var(--hover-bg-color);\n",
              "    box-shadow: 0 1px 2px rgba(60, 64, 67, 0.3), 0 1px 3px 1px rgba(60, 64, 67, 0.15);\n",
              "    fill: var(--button-hover-fill-color);\n",
              "  }\n",
              "\n",
              "  .colab-df-quickchart-complete:disabled,\n",
              "  .colab-df-quickchart-complete:disabled:hover {\n",
              "    background-color: var(--disabled-bg-color);\n",
              "    fill: var(--disabled-fill-color);\n",
              "    box-shadow: none;\n",
              "  }\n",
              "\n",
              "  .colab-df-spinner {\n",
              "    border: 2px solid var(--fill-color);\n",
              "    border-color: transparent;\n",
              "    border-bottom-color: var(--fill-color);\n",
              "    animation:\n",
              "      spin 1s steps(1) infinite;\n",
              "  }\n",
              "\n",
              "  @keyframes spin {\n",
              "    0% {\n",
              "      border-color: transparent;\n",
              "      border-bottom-color: var(--fill-color);\n",
              "      border-left-color: var(--fill-color);\n",
              "    }\n",
              "    20% {\n",
              "      border-color: transparent;\n",
              "      border-left-color: var(--fill-color);\n",
              "      border-top-color: var(--fill-color);\n",
              "    }\n",
              "    30% {\n",
              "      border-color: transparent;\n",
              "      border-left-color: var(--fill-color);\n",
              "      border-top-color: var(--fill-color);\n",
              "      border-right-color: var(--fill-color);\n",
              "    }\n",
              "    40% {\n",
              "      border-color: transparent;\n",
              "      border-right-color: var(--fill-color);\n",
              "      border-top-color: var(--fill-color);\n",
              "    }\n",
              "    60% {\n",
              "      border-color: transparent;\n",
              "      border-right-color: var(--fill-color);\n",
              "    }\n",
              "    80% {\n",
              "      border-color: transparent;\n",
              "      border-right-color: var(--fill-color);\n",
              "      border-bottom-color: var(--fill-color);\n",
              "    }\n",
              "    90% {\n",
              "      border-color: transparent;\n",
              "      border-bottom-color: var(--fill-color);\n",
              "    }\n",
              "  }\n",
              "</style>\n",
              "\n",
              "  <script>\n",
              "    async function quickchart(key) {\n",
              "      const quickchartButtonEl =\n",
              "        document.querySelector('#' + key + ' button');\n",
              "      quickchartButtonEl.disabled = true;  // To prevent multiple clicks.\n",
              "      quickchartButtonEl.classList.add('colab-df-spinner');\n",
              "      try {\n",
              "        const charts = await google.colab.kernel.invokeFunction(\n",
              "            'suggestCharts', [key], {});\n",
              "      } catch (error) {\n",
              "        console.error('Error during call to suggestCharts:', error);\n",
              "      }\n",
              "      quickchartButtonEl.classList.remove('colab-df-spinner');\n",
              "      quickchartButtonEl.classList.add('colab-df-quickchart-complete');\n",
              "    }\n",
              "    (() => {\n",
              "      let quickchartButtonEl =\n",
              "        document.querySelector('#df-e5272e4a-5f97-410e-adca-b31f52c73a7e button');\n",
              "      quickchartButtonEl.style.display =\n",
              "        google.colab.kernel.accessAllowed ? 'block' : 'none';\n",
              "    })();\n",
              "  </script>\n",
              "</div>\n",
              "\n",
              "    </div>\n",
              "  </div>\n"
            ]
          },
          "metadata": {},
          "execution_count": 7
        }
      ]
    },
    {
      "cell_type": "code",
      "source": [
        "df_copy.describe().T"
      ],
      "metadata": {
        "execution": {
          "iopub.status.busy": "2023-11-01T03:31:09.865011Z",
          "iopub.execute_input": "2023-11-01T03:31:09.865488Z",
          "iopub.status.idle": "2023-11-01T03:31:09.913178Z",
          "shell.execute_reply.started": "2023-11-01T03:31:09.865455Z",
          "shell.execute_reply": "2023-11-01T03:31:09.912260Z"
        },
        "trusted": true,
        "colab": {
          "base_uri": "https://localhost:8080/",
          "height": 488
        },
        "id": "ZFNlZA3vP-Zk",
        "outputId": "7ddc185a-3685-4a77-84c2-70ee54987817"
      },
      "execution_count": 8,
      "outputs": [
        {
          "output_type": "execute_result",
          "data": {
            "text/plain": [
              "          count   mean   std    min    25%    50%    75%    max\n",
              "age      303.00  54.37  9.08  29.00  47.50  55.00  61.00  77.00\n",
              "sex      303.00   0.68  0.47   0.00   0.00   1.00   1.00   1.00\n",
              "cp       303.00   0.97  1.03   0.00   0.00   1.00   2.00   3.00\n",
              "trtbps   303.00 131.62 17.54  94.00 120.00 130.00 140.00 200.00\n",
              "chol     303.00 246.26 51.83 126.00 211.00 240.00 274.50 564.00\n",
              "fbs      303.00   0.15  0.36   0.00   0.00   0.00   0.00   1.00\n",
              "restecg  303.00   0.53  0.53   0.00   0.00   1.00   1.00   2.00\n",
              "thalachh 303.00 149.65 22.91  71.00 133.50 153.00 166.00 202.00\n",
              "exng     303.00   0.33  0.47   0.00   0.00   0.00   1.00   1.00\n",
              "oldpeak  303.00   1.04  1.16   0.00   0.00   0.80   1.60   6.20\n",
              "slp      303.00   1.40  0.62   0.00   1.00   1.00   2.00   2.00\n",
              "caa      303.00   0.73  1.02   0.00   0.00   0.00   1.00   4.00\n",
              "thall    303.00   2.31  0.61   0.00   2.00   2.00   3.00   3.00\n",
              "output   303.00   0.54  0.50   0.00   0.00   1.00   1.00   1.00"
            ],
            "text/html": [
              "\n",
              "  <div id=\"df-87692b8f-a7d6-419f-8571-579b1bd90020\" class=\"colab-df-container\">\n",
              "    <div>\n",
              "<style scoped>\n",
              "    .dataframe tbody tr th:only-of-type {\n",
              "        vertical-align: middle;\n",
              "    }\n",
              "\n",
              "    .dataframe tbody tr th {\n",
              "        vertical-align: top;\n",
              "    }\n",
              "\n",
              "    .dataframe thead th {\n",
              "        text-align: right;\n",
              "    }\n",
              "</style>\n",
              "<table border=\"1\" class=\"dataframe\">\n",
              "  <thead>\n",
              "    <tr style=\"text-align: right;\">\n",
              "      <th></th>\n",
              "      <th>count</th>\n",
              "      <th>mean</th>\n",
              "      <th>std</th>\n",
              "      <th>min</th>\n",
              "      <th>25%</th>\n",
              "      <th>50%</th>\n",
              "      <th>75%</th>\n",
              "      <th>max</th>\n",
              "    </tr>\n",
              "  </thead>\n",
              "  <tbody>\n",
              "    <tr>\n",
              "      <th>age</th>\n",
              "      <td>303.00</td>\n",
              "      <td>54.37</td>\n",
              "      <td>9.08</td>\n",
              "      <td>29.00</td>\n",
              "      <td>47.50</td>\n",
              "      <td>55.00</td>\n",
              "      <td>61.00</td>\n",
              "      <td>77.00</td>\n",
              "    </tr>\n",
              "    <tr>\n",
              "      <th>sex</th>\n",
              "      <td>303.00</td>\n",
              "      <td>0.68</td>\n",
              "      <td>0.47</td>\n",
              "      <td>0.00</td>\n",
              "      <td>0.00</td>\n",
              "      <td>1.00</td>\n",
              "      <td>1.00</td>\n",
              "      <td>1.00</td>\n",
              "    </tr>\n",
              "    <tr>\n",
              "      <th>cp</th>\n",
              "      <td>303.00</td>\n",
              "      <td>0.97</td>\n",
              "      <td>1.03</td>\n",
              "      <td>0.00</td>\n",
              "      <td>0.00</td>\n",
              "      <td>1.00</td>\n",
              "      <td>2.00</td>\n",
              "      <td>3.00</td>\n",
              "    </tr>\n",
              "    <tr>\n",
              "      <th>trtbps</th>\n",
              "      <td>303.00</td>\n",
              "      <td>131.62</td>\n",
              "      <td>17.54</td>\n",
              "      <td>94.00</td>\n",
              "      <td>120.00</td>\n",
              "      <td>130.00</td>\n",
              "      <td>140.00</td>\n",
              "      <td>200.00</td>\n",
              "    </tr>\n",
              "    <tr>\n",
              "      <th>chol</th>\n",
              "      <td>303.00</td>\n",
              "      <td>246.26</td>\n",
              "      <td>51.83</td>\n",
              "      <td>126.00</td>\n",
              "      <td>211.00</td>\n",
              "      <td>240.00</td>\n",
              "      <td>274.50</td>\n",
              "      <td>564.00</td>\n",
              "    </tr>\n",
              "    <tr>\n",
              "      <th>fbs</th>\n",
              "      <td>303.00</td>\n",
              "      <td>0.15</td>\n",
              "      <td>0.36</td>\n",
              "      <td>0.00</td>\n",
              "      <td>0.00</td>\n",
              "      <td>0.00</td>\n",
              "      <td>0.00</td>\n",
              "      <td>1.00</td>\n",
              "    </tr>\n",
              "    <tr>\n",
              "      <th>restecg</th>\n",
              "      <td>303.00</td>\n",
              "      <td>0.53</td>\n",
              "      <td>0.53</td>\n",
              "      <td>0.00</td>\n",
              "      <td>0.00</td>\n",
              "      <td>1.00</td>\n",
              "      <td>1.00</td>\n",
              "      <td>2.00</td>\n",
              "    </tr>\n",
              "    <tr>\n",
              "      <th>thalachh</th>\n",
              "      <td>303.00</td>\n",
              "      <td>149.65</td>\n",
              "      <td>22.91</td>\n",
              "      <td>71.00</td>\n",
              "      <td>133.50</td>\n",
              "      <td>153.00</td>\n",
              "      <td>166.00</td>\n",
              "      <td>202.00</td>\n",
              "    </tr>\n",
              "    <tr>\n",
              "      <th>exng</th>\n",
              "      <td>303.00</td>\n",
              "      <td>0.33</td>\n",
              "      <td>0.47</td>\n",
              "      <td>0.00</td>\n",
              "      <td>0.00</td>\n",
              "      <td>0.00</td>\n",
              "      <td>1.00</td>\n",
              "      <td>1.00</td>\n",
              "    </tr>\n",
              "    <tr>\n",
              "      <th>oldpeak</th>\n",
              "      <td>303.00</td>\n",
              "      <td>1.04</td>\n",
              "      <td>1.16</td>\n",
              "      <td>0.00</td>\n",
              "      <td>0.00</td>\n",
              "      <td>0.80</td>\n",
              "      <td>1.60</td>\n",
              "      <td>6.20</td>\n",
              "    </tr>\n",
              "    <tr>\n",
              "      <th>slp</th>\n",
              "      <td>303.00</td>\n",
              "      <td>1.40</td>\n",
              "      <td>0.62</td>\n",
              "      <td>0.00</td>\n",
              "      <td>1.00</td>\n",
              "      <td>1.00</td>\n",
              "      <td>2.00</td>\n",
              "      <td>2.00</td>\n",
              "    </tr>\n",
              "    <tr>\n",
              "      <th>caa</th>\n",
              "      <td>303.00</td>\n",
              "      <td>0.73</td>\n",
              "      <td>1.02</td>\n",
              "      <td>0.00</td>\n",
              "      <td>0.00</td>\n",
              "      <td>0.00</td>\n",
              "      <td>1.00</td>\n",
              "      <td>4.00</td>\n",
              "    </tr>\n",
              "    <tr>\n",
              "      <th>thall</th>\n",
              "      <td>303.00</td>\n",
              "      <td>2.31</td>\n",
              "      <td>0.61</td>\n",
              "      <td>0.00</td>\n",
              "      <td>2.00</td>\n",
              "      <td>2.00</td>\n",
              "      <td>3.00</td>\n",
              "      <td>3.00</td>\n",
              "    </tr>\n",
              "    <tr>\n",
              "      <th>output</th>\n",
              "      <td>303.00</td>\n",
              "      <td>0.54</td>\n",
              "      <td>0.50</td>\n",
              "      <td>0.00</td>\n",
              "      <td>0.00</td>\n",
              "      <td>1.00</td>\n",
              "      <td>1.00</td>\n",
              "      <td>1.00</td>\n",
              "    </tr>\n",
              "  </tbody>\n",
              "</table>\n",
              "</div>\n",
              "    <div class=\"colab-df-buttons\">\n",
              "\n",
              "  <div class=\"colab-df-container\">\n",
              "    <button class=\"colab-df-convert\" onclick=\"convertToInteractive('df-87692b8f-a7d6-419f-8571-579b1bd90020')\"\n",
              "            title=\"Convert this dataframe to an interactive table.\"\n",
              "            style=\"display:none;\">\n",
              "\n",
              "  <svg xmlns=\"http://www.w3.org/2000/svg\" height=\"24px\" viewBox=\"0 -960 960 960\">\n",
              "    <path d=\"M120-120v-720h720v720H120Zm60-500h600v-160H180v160Zm220 220h160v-160H400v160Zm0 220h160v-160H400v160ZM180-400h160v-160H180v160Zm440 0h160v-160H620v160ZM180-180h160v-160H180v160Zm440 0h160v-160H620v160Z\"/>\n",
              "  </svg>\n",
              "    </button>\n",
              "\n",
              "  <style>\n",
              "    .colab-df-container {\n",
              "      display:flex;\n",
              "      gap: 12px;\n",
              "    }\n",
              "\n",
              "    .colab-df-convert {\n",
              "      background-color: #E8F0FE;\n",
              "      border: none;\n",
              "      border-radius: 50%;\n",
              "      cursor: pointer;\n",
              "      display: none;\n",
              "      fill: #1967D2;\n",
              "      height: 32px;\n",
              "      padding: 0 0 0 0;\n",
              "      width: 32px;\n",
              "    }\n",
              "\n",
              "    .colab-df-convert:hover {\n",
              "      background-color: #E2EBFA;\n",
              "      box-shadow: 0px 1px 2px rgba(60, 64, 67, 0.3), 0px 1px 3px 1px rgba(60, 64, 67, 0.15);\n",
              "      fill: #174EA6;\n",
              "    }\n",
              "\n",
              "    .colab-df-buttons div {\n",
              "      margin-bottom: 4px;\n",
              "    }\n",
              "\n",
              "    [theme=dark] .colab-df-convert {\n",
              "      background-color: #3B4455;\n",
              "      fill: #D2E3FC;\n",
              "    }\n",
              "\n",
              "    [theme=dark] .colab-df-convert:hover {\n",
              "      background-color: #434B5C;\n",
              "      box-shadow: 0px 1px 3px 1px rgba(0, 0, 0, 0.15);\n",
              "      filter: drop-shadow(0px 1px 2px rgba(0, 0, 0, 0.3));\n",
              "      fill: #FFFFFF;\n",
              "    }\n",
              "  </style>\n",
              "\n",
              "    <script>\n",
              "      const buttonEl =\n",
              "        document.querySelector('#df-87692b8f-a7d6-419f-8571-579b1bd90020 button.colab-df-convert');\n",
              "      buttonEl.style.display =\n",
              "        google.colab.kernel.accessAllowed ? 'block' : 'none';\n",
              "\n",
              "      async function convertToInteractive(key) {\n",
              "        const element = document.querySelector('#df-87692b8f-a7d6-419f-8571-579b1bd90020');\n",
              "        const dataTable =\n",
              "          await google.colab.kernel.invokeFunction('convertToInteractive',\n",
              "                                                    [key], {});\n",
              "        if (!dataTable) return;\n",
              "\n",
              "        const docLinkHtml = 'Like what you see? Visit the ' +\n",
              "          '<a target=\"_blank\" href=https://colab.research.google.com/notebooks/data_table.ipynb>data table notebook</a>'\n",
              "          + ' to learn more about interactive tables.';\n",
              "        element.innerHTML = '';\n",
              "        dataTable['output_type'] = 'display_data';\n",
              "        await google.colab.output.renderOutput(dataTable, element);\n",
              "        const docLink = document.createElement('div');\n",
              "        docLink.innerHTML = docLinkHtml;\n",
              "        element.appendChild(docLink);\n",
              "      }\n",
              "    </script>\n",
              "  </div>\n",
              "\n",
              "\n",
              "<div id=\"df-f4cbf35a-596f-4620-b070-62f8a62cf4e6\">\n",
              "  <button class=\"colab-df-quickchart\" onclick=\"quickchart('df-f4cbf35a-596f-4620-b070-62f8a62cf4e6')\"\n",
              "            title=\"Suggest charts\"\n",
              "            style=\"display:none;\">\n",
              "\n",
              "<svg xmlns=\"http://www.w3.org/2000/svg\" height=\"24px\"viewBox=\"0 0 24 24\"\n",
              "     width=\"24px\">\n",
              "    <g>\n",
              "        <path d=\"M19 3H5c-1.1 0-2 .9-2 2v14c0 1.1.9 2 2 2h14c1.1 0 2-.9 2-2V5c0-1.1-.9-2-2-2zM9 17H7v-7h2v7zm4 0h-2V7h2v10zm4 0h-2v-4h2v4z\"/>\n",
              "    </g>\n",
              "</svg>\n",
              "  </button>\n",
              "\n",
              "<style>\n",
              "  .colab-df-quickchart {\n",
              "      --bg-color: #E8F0FE;\n",
              "      --fill-color: #1967D2;\n",
              "      --hover-bg-color: #E2EBFA;\n",
              "      --hover-fill-color: #174EA6;\n",
              "      --disabled-fill-color: #AAA;\n",
              "      --disabled-bg-color: #DDD;\n",
              "  }\n",
              "\n",
              "  [theme=dark] .colab-df-quickchart {\n",
              "      --bg-color: #3B4455;\n",
              "      --fill-color: #D2E3FC;\n",
              "      --hover-bg-color: #434B5C;\n",
              "      --hover-fill-color: #FFFFFF;\n",
              "      --disabled-bg-color: #3B4455;\n",
              "      --disabled-fill-color: #666;\n",
              "  }\n",
              "\n",
              "  .colab-df-quickchart {\n",
              "    background-color: var(--bg-color);\n",
              "    border: none;\n",
              "    border-radius: 50%;\n",
              "    cursor: pointer;\n",
              "    display: none;\n",
              "    fill: var(--fill-color);\n",
              "    height: 32px;\n",
              "    padding: 0;\n",
              "    width: 32px;\n",
              "  }\n",
              "\n",
              "  .colab-df-quickchart:hover {\n",
              "    background-color: var(--hover-bg-color);\n",
              "    box-shadow: 0 1px 2px rgba(60, 64, 67, 0.3), 0 1px 3px 1px rgba(60, 64, 67, 0.15);\n",
              "    fill: var(--button-hover-fill-color);\n",
              "  }\n",
              "\n",
              "  .colab-df-quickchart-complete:disabled,\n",
              "  .colab-df-quickchart-complete:disabled:hover {\n",
              "    background-color: var(--disabled-bg-color);\n",
              "    fill: var(--disabled-fill-color);\n",
              "    box-shadow: none;\n",
              "  }\n",
              "\n",
              "  .colab-df-spinner {\n",
              "    border: 2px solid var(--fill-color);\n",
              "    border-color: transparent;\n",
              "    border-bottom-color: var(--fill-color);\n",
              "    animation:\n",
              "      spin 1s steps(1) infinite;\n",
              "  }\n",
              "\n",
              "  @keyframes spin {\n",
              "    0% {\n",
              "      border-color: transparent;\n",
              "      border-bottom-color: var(--fill-color);\n",
              "      border-left-color: var(--fill-color);\n",
              "    }\n",
              "    20% {\n",
              "      border-color: transparent;\n",
              "      border-left-color: var(--fill-color);\n",
              "      border-top-color: var(--fill-color);\n",
              "    }\n",
              "    30% {\n",
              "      border-color: transparent;\n",
              "      border-left-color: var(--fill-color);\n",
              "      border-top-color: var(--fill-color);\n",
              "      border-right-color: var(--fill-color);\n",
              "    }\n",
              "    40% {\n",
              "      border-color: transparent;\n",
              "      border-right-color: var(--fill-color);\n",
              "      border-top-color: var(--fill-color);\n",
              "    }\n",
              "    60% {\n",
              "      border-color: transparent;\n",
              "      border-right-color: var(--fill-color);\n",
              "    }\n",
              "    80% {\n",
              "      border-color: transparent;\n",
              "      border-right-color: var(--fill-color);\n",
              "      border-bottom-color: var(--fill-color);\n",
              "    }\n",
              "    90% {\n",
              "      border-color: transparent;\n",
              "      border-bottom-color: var(--fill-color);\n",
              "    }\n",
              "  }\n",
              "</style>\n",
              "\n",
              "  <script>\n",
              "    async function quickchart(key) {\n",
              "      const quickchartButtonEl =\n",
              "        document.querySelector('#' + key + ' button');\n",
              "      quickchartButtonEl.disabled = true;  // To prevent multiple clicks.\n",
              "      quickchartButtonEl.classList.add('colab-df-spinner');\n",
              "      try {\n",
              "        const charts = await google.colab.kernel.invokeFunction(\n",
              "            'suggestCharts', [key], {});\n",
              "      } catch (error) {\n",
              "        console.error('Error during call to suggestCharts:', error);\n",
              "      }\n",
              "      quickchartButtonEl.classList.remove('colab-df-spinner');\n",
              "      quickchartButtonEl.classList.add('colab-df-quickchart-complete');\n",
              "    }\n",
              "    (() => {\n",
              "      let quickchartButtonEl =\n",
              "        document.querySelector('#df-f4cbf35a-596f-4620-b070-62f8a62cf4e6 button');\n",
              "      quickchartButtonEl.style.display =\n",
              "        google.colab.kernel.accessAllowed ? 'block' : 'none';\n",
              "    })();\n",
              "  </script>\n",
              "</div>\n",
              "\n",
              "    </div>\n",
              "  </div>\n"
            ]
          },
          "metadata": {},
          "execution_count": 8
        }
      ]
    },
    {
      "cell_type": "code",
      "source": [
        "df.nunique()"
      ],
      "metadata": {
        "execution": {
          "iopub.status.busy": "2023-11-01T03:31:14.355141Z",
          "iopub.execute_input": "2023-11-01T03:31:14.355672Z",
          "iopub.status.idle": "2023-11-01T03:31:14.369825Z",
          "shell.execute_reply.started": "2023-11-01T03:31:14.355633Z",
          "shell.execute_reply": "2023-11-01T03:31:14.368517Z"
        },
        "trusted": true,
        "colab": {
          "base_uri": "https://localhost:8080/"
        },
        "id": "Bec81HprP-Zk",
        "outputId": "6211921c-43f6-484f-879c-91358016a5e2"
      },
      "execution_count": 9,
      "outputs": [
        {
          "output_type": "execute_result",
          "data": {
            "text/plain": [
              "age          41\n",
              "sex           2\n",
              "cp            4\n",
              "trtbps       49\n",
              "chol        152\n",
              "fbs           2\n",
              "restecg       3\n",
              "thalachh     91\n",
              "exng          2\n",
              "oldpeak      40\n",
              "slp           3\n",
              "caa           5\n",
              "thall         4\n",
              "output        2\n",
              "dtype: int64"
            ]
          },
          "metadata": {},
          "execution_count": 9
        }
      ]
    },
    {
      "cell_type": "code",
      "source": [
        "cat_cols = ['sex', 'cp', 'fbs', 'restecg', 'exng', 'slp', 'caa', 'thall', 'output']\n",
        "num_cols = ['age', 'trtbps', 'chol', 'thalachh', 'oldpeak']"
      ],
      "metadata": {
        "execution": {
          "iopub.status.busy": "2023-11-01T03:31:27.280212Z",
          "iopub.execute_input": "2023-11-01T03:31:27.280645Z",
          "iopub.status.idle": "2023-11-01T03:31:27.287460Z",
          "shell.execute_reply.started": "2023-11-01T03:31:27.280607Z",
          "shell.execute_reply": "2023-11-01T03:31:27.286063Z"
        },
        "trusted": true,
        "id": "O_vYetj5P-Zl"
      },
      "execution_count": 10,
      "outputs": []
    },
    {
      "cell_type": "markdown",
      "source": [
        "<a id=\"section-two\"></a>\n",
        "# **VISUALIZATION**"
      ],
      "metadata": {
        "id": "mghBRR6DP-Zl"
      }
    },
    {
      "cell_type": "code",
      "source": [
        "palette_color = sns.color_palette('Accent')\n",
        "\n",
        "fig, axs = plt.subplots(1,2, figsize = (15, 5))\n",
        "ax = sns.countplot(data=df_copy,\n",
        "                   x=df_copy['sex'],\n",
        "                   ax = axs[0],\n",
        "                   palette='Accent');\n",
        "\n",
        "ax.set_xlabel('Sex', fontsize=14)\n",
        "ax.set_ylabel('Count', fontsize=14)\n",
        "axs[0].set_title(\"Count of Sex\", fontsize=16)\n",
        "\n",
        "ax2 = df_copy['sex'].value_counts().plot.pie(explode=[0,0.07],\n",
        "                                             colors=[palette_color[1], palette_color[0]],\n",
        "                                             ax = axs[1],\n",
        "                                             autopct='%.2f%%');\n",
        "axs[1].set_title(\"Ratio of Sex\", fontsize=16);"
      ],
      "metadata": {
        "execution": {
          "iopub.status.busy": "2023-11-01T03:31:28.995146Z",
          "iopub.execute_input": "2023-11-01T03:31:28.995692Z",
          "iopub.status.idle": "2023-11-01T03:31:29.516715Z",
          "shell.execute_reply.started": "2023-11-01T03:31:28.995650Z",
          "shell.execute_reply": "2023-11-01T03:31:29.515302Z"
        },
        "trusted": true,
        "colab": {
          "base_uri": "https://localhost:8080/",
          "height": 494
        },
        "id": "SIbu6eu3P-Zl",
        "outputId": "1c1c937d-5533-4f16-8ca5-a49a8a0b06b9"
      },
      "execution_count": 11,
      "outputs": [
        {
          "output_type": "display_data",
          "data": {
            "text/plain": [
              "<Figure size 1500x500 with 2 Axes>"
            ],
            "image/png": "[encoded data removed]"
          },
          "metadata": {}
        }
      ]
    },
    {
      "cell_type": "code",
      "source": [
        "fbs_count = df['fbs'].value_counts()\n",
        "plt.figure(figsize=(15,5))\n",
        "plt.bar(fbs_count.index, fbs_count.values, color=[\"#E2D1F9\", \"#317773\"])\n",
        "plt.title('Fasting Blood Sugar Distribution')\n",
        "plt.xlabel('Fasting Blood Sugar > 120 mg/dl (1 = true; 0 = false)')\n",
        "plt.ylabel('Number of Patients')\n",
        "plt.xticks(fbs_count.index)\n",
        "plt.show()"
      ],
      "metadata": {
        "execution": {
          "iopub.status.busy": "2023-11-01T03:31:35.434309Z",
          "iopub.execute_input": "2023-11-01T03:31:35.434713Z",
          "iopub.status.idle": "2023-11-01T03:31:35.728479Z",
          "shell.execute_reply.started": "2023-11-01T03:31:35.434683Z",
          "shell.execute_reply": "2023-11-01T03:31:35.727118Z"
        },
        "trusted": true,
        "colab": {
          "base_uri": "https://localhost:8080/",
          "height": 487
        },
        "id": "dqpANSvzP-Zm",
        "outputId": "80afe516-7ea7-43d4-f394-4c1c63174b0e"
      },
      "execution_count": 12,
      "outputs": [
        {
          "output_type": "display_data",
          "data": {
            "text/plain": [
              "<Figure size 1500x500 with 1 Axes>"
            ],
            "image/png": "[encoded data removed]"
          },
          "metadata": {}
        }
      ]
    },
    {
      "cell_type": "markdown",
      "source": [
        "### Exporting Correlation Matrix"
      ],
      "metadata": {
        "id": "eV10YH4OP-Zm"
      }
    },
    {
      "cell_type": "code",
      "source": [
        "corr = df.corr()\n",
        "plt.figure(figsize=(20,10))\n",
        "sns.heatmap(corr, cmap=\"Blues\", annot=True);"
      ],
      "metadata": {
        "execution": {
          "iopub.status.busy": "2023-11-01T03:31:44.694934Z",
          "iopub.execute_input": "2023-11-01T03:31:44.695397Z",
          "iopub.status.idle": "2023-11-01T03:31:45.884036Z",
          "shell.execute_reply.started": "2023-11-01T03:31:44.695365Z",
          "shell.execute_reply": "2023-11-01T03:31:45.882510Z"
        },
        "trusted": true,
        "colab": {
          "base_uri": "https://localhost:8080/",
          "height": 794
        },
        "id": "H0jnLoDiP-Zm",
        "outputId": "b06ecb5f-f951-4990-dd52-d1c383b42c4e"
      },
      "execution_count": 13,
      "outputs": [
        {
          "output_type": "display_data",
          "data": {
            "text/plain": [
              "<Figure size 2000x1000 with 2 Axes>"
            ],
            "image/png": "[encoded data removed]"
          },
          "metadata": {}
        }
      ]
    },
    {
      "cell_type": "markdown",
      "source": [
        "<a id=\"section-three\"></a>\n",
        "# **Feature Engineering**"
      ],
      "metadata": {
        "id": "XAybVkgrP-Zm"
      }
    },
    {
      "cell_type": "markdown",
      "source": [
        "<a id=\"section-four\"></a>\n",
        "## I. Missing Values"
      ],
      "metadata": {
        "id": "UN_ydUTsP-Zn"
      }
    },
    {
      "cell_type": "code",
      "source": [
        "print(pd.concat([df_copy.isnull().sum(), df_copy.isnull().sum()/len(df_copy)*100],\n",
        "                 keys=['Number of Missing Values', 'Ratio of Missing Values'],\n",
        "                 axis=1))"
      ],
      "metadata": {
        "execution": {
          "iopub.status.busy": "2023-11-01T03:31:49.545139Z",
          "iopub.execute_input": "2023-11-01T03:31:49.545636Z",
          "iopub.status.idle": "2023-11-01T03:31:49.558859Z",
          "shell.execute_reply.started": "2023-11-01T03:31:49.545602Z",
          "shell.execute_reply": "2023-11-01T03:31:49.557375Z"
        },
        "trusted": true,
        "colab": {
          "base_uri": "https://localhost:8080/"
        },
        "id": "U_InAT7RP-Zn",
        "outputId": "a668386f-4bcb-4b3a-a474-1d7d57045b6b"
      },
      "execution_count": 14,
      "outputs": [
        {
          "output_type": "stream",
          "name": "stdout",
          "text": [
            "          Number of Missing Values  Ratio of Missing Values\n",
            "age                              0                     0.00\n",
            "sex                              0                     0.00\n",
            "cp                               0                     0.00\n",
            "trtbps                           0                     0.00\n",
            "chol                             0                     0.00\n",
            "fbs                              0                     0.00\n",
            "restecg                          0                     0.00\n",
            "thalachh                         0                     0.00\n",
            "exng                             0                     0.00\n",
            "oldpeak                          0                     0.00\n",
            "slp                              0                     0.00\n",
            "caa                              0                     0.00\n",
            "thall                            0                     0.00\n",
            "output                           0                     0.00\n"
          ]
        }
      ]
    },
    {
      "cell_type": "markdown",
      "source": [
        "<a id=\"section-six\"></a>\n",
        "## II. Feature Extraction"
      ],
      "metadata": {
        "id": "12YVPxjqP-Zt"
      }
    },
    {
      "cell_type": "code",
      "source": [
        "df_copy['Age_CAT'] = pd.cut(x=df_copy['age'],\n",
        "                            bins=[20, 40, 60, df_copy['age'].max()],\n",
        "                            labels=[\"Adult\", \"Middle_Age_Adult\", \"Senior_Adult\"])"
      ],
      "metadata": {
        "execution": {
          "iopub.status.busy": "2023-11-01T03:34:03.424934Z",
          "iopub.execute_input": "2023-11-01T03:34:03.425381Z",
          "iopub.status.idle": "2023-11-01T03:34:03.434012Z",
          "shell.execute_reply.started": "2023-11-01T03:34:03.425346Z",
          "shell.execute_reply": "2023-11-01T03:34:03.432698Z"
        },
        "trusted": true,
        "id": "zTIgfEIwP-Zt"
      },
      "execution_count": 15,
      "outputs": []
    },
    {
      "cell_type": "code",
      "source": [
        "plt.figure(figsize=(10,4))\n",
        "sns.countplot(data=df_copy, x='Age_CAT',\n",
        "              hue='output',\n",
        "              order=[\"Adult\", \"Middle_Age_Adult\", \"Senior_Adult\"],\n",
        "              palette=[\"#E3C9CEFF\", \"#9FC131FF\"])\n",
        "plt.show()"
      ],
      "metadata": {
        "execution": {
          "iopub.status.busy": "2023-11-01T03:34:07.196198Z",
          "iopub.execute_input": "2023-11-01T03:34:07.196760Z",
          "iopub.status.idle": "2023-11-01T03:34:07.410478Z",
          "shell.execute_reply.started": "2023-11-01T03:34:07.196719Z",
          "shell.execute_reply": "2023-11-01T03:34:07.409314Z"
        },
        "trusted": true,
        "colab": {
          "base_uri": "https://localhost:8080/",
          "height": 388
        },
        "id": "xRUBzizyP-Zt",
        "outputId": "14c17161-1b82-4fcc-a1da-5eb32e127ae6"
      },
      "execution_count": 16,
      "outputs": [
        {
          "output_type": "display_data",
          "data": {
            "text/plain": [
              "<Figure size 1000x400 with 1 Axes>"
            ],
            "image/png": "[encoded data removed]"
          },
          "metadata": {}
        }
      ]
    },
    {
      "cell_type": "code",
      "source": [
        "cat_cols.append('Age_CAT')\n",
        "cat_cols"
      ],
      "metadata": {
        "execution": {
          "iopub.status.busy": "2023-11-01T03:34:10.929889Z",
          "iopub.execute_input": "2023-11-01T03:34:10.930333Z",
          "iopub.status.idle": "2023-11-01T03:34:10.938066Z",
          "shell.execute_reply.started": "2023-11-01T03:34:10.930300Z",
          "shell.execute_reply": "2023-11-01T03:34:10.936577Z"
        },
        "trusted": true,
        "id": "WkLE2TGmP-Zu",
        "outputId": "3df2e828-ee40-435c-d332-1d271fce2e14",
        "colab": {
          "base_uri": "https://localhost:8080/"
        }
      },
      "execution_count": 17,
      "outputs": [
        {
          "output_type": "execute_result",
          "data": {
            "text/plain": [
              "['sex',\n",
              " 'cp',\n",
              " 'fbs',\n",
              " 'restecg',\n",
              " 'exng',\n",
              " 'slp',\n",
              " 'caa',\n",
              " 'thall',\n",
              " 'output',\n",
              " 'Age_CAT']"
            ]
          },
          "metadata": {},
          "execution_count": 17
        }
      ]
    },
    {
      "cell_type": "markdown",
      "source": [
        "<a id=\"section-seven\"></a>\n",
        "## IV. Encoding and Scaling"
      ],
      "metadata": {
        "id": "Pi8CE7O4P-Zu"
      }
    },
    {
      "cell_type": "code",
      "source": [
        "def one_hot_encoder(dataframe, categorical_col, drop_first=True):\n",
        "    dataframe = pd.get_dummies(dataframe, columns=categorical_col, drop_first=drop_first)\n",
        "    return dataframe\n",
        "\n",
        "ohe_cols = [col for col in df_copy.columns if 12 >= df_copy[col].nunique() > 2]\n",
        "df_copy = one_hot_encoder(df_copy, ohe_cols, drop_first=True)"
      ],
      "metadata": {
        "execution": {
          "iopub.status.busy": "2023-11-01T03:34:14.264318Z",
          "iopub.execute_input": "2023-11-01T03:34:14.264732Z",
          "iopub.status.idle": "2023-11-01T03:34:14.285568Z",
          "shell.execute_reply.started": "2023-11-01T03:34:14.264702Z",
          "shell.execute_reply": "2023-11-01T03:34:14.284127Z"
        },
        "trusted": true,
        "id": "2XKHKka2P-Zu"
      },
      "execution_count": 18,
      "outputs": []
    },
    {
      "cell_type": "code",
      "source": [
        "scaler = StandardScaler()\n",
        "df_copy[num_cols] = scaler.fit_transform(df_copy[num_cols])"
      ],
      "metadata": {
        "execution": {
          "iopub.status.busy": "2023-11-01T03:34:17.625090Z",
          "iopub.execute_input": "2023-11-01T03:34:17.625512Z",
          "iopub.status.idle": "2023-11-01T03:34:17.640310Z",
          "shell.execute_reply.started": "2023-11-01T03:34:17.625479Z",
          "shell.execute_reply": "2023-11-01T03:34:17.638371Z"
        },
        "trusted": true,
        "id": "x4lt7eZwP-Zv"
      },
      "execution_count": 19,
      "outputs": []
    },
    {
      "cell_type": "markdown",
      "source": [
        "<a id=\"section-eight\"></a>\n",
        "# **Model Training**"
      ],
      "metadata": {
        "id": "sHNltCRNP-Zx"
      }
    },
    {
      "cell_type": "code",
      "source": [
        "y = df_copy[\"output\"]\n",
        "X = df_copy.drop(\"output\", axis=1)\n",
        "X_train, X_test, y_train, y_test = train_test_split(X, y, test_size=0.20, random_state=42)"
      ],
      "metadata": {
        "execution": {
          "iopub.status.busy": "2023-11-01T03:34:20.695382Z",
          "iopub.execute_input": "2023-11-01T03:34:20.695949Z",
          "iopub.status.idle": "2023-11-01T03:34:20.711092Z",
          "shell.execute_reply.started": "2023-11-01T03:34:20.695894Z",
          "shell.execute_reply": "2023-11-01T03:34:20.709519Z"
        },
        "trusted": true,
        "id": "bvsemDzZP-Zx"
      },
      "execution_count": 20,
      "outputs": []
    },
    {
      "cell_type": "code",
      "source": [
        "print('Shape of x_train is {}'.format(X_train.shape))\n",
        "print('Shape of x_test is {}'.format(X_test.shape))\n",
        "print('Shape of y_train is {}'.format(y_train.shape))\n",
        "print('Shape of y_test is {}'.format(y_test.shape))"
      ],
      "metadata": {
        "execution": {
          "iopub.status.busy": "2023-11-01T03:34:26.445394Z",
          "iopub.execute_input": "2023-11-01T03:34:26.445821Z",
          "iopub.status.idle": "2023-11-01T03:34:26.453117Z",
          "shell.execute_reply.started": "2023-11-01T03:34:26.445790Z",
          "shell.execute_reply": "2023-11-01T03:34:26.451602Z"
        },
        "trusted": true,
        "id": "1P-QLKVsP-Zx",
        "outputId": "c6ea1131-9c6a-477d-96dc-d6b7b9991862",
        "colab": {
          "base_uri": "https://localhost:8080/"
        }
      },
      "execution_count": 21,
      "outputs": [
        {
          "output_type": "stream",
          "name": "stdout",
          "text": [
            "Shape of x_train is (242, 24)\n",
            "Shape of x_test is (61, 24)\n",
            "Shape of y_train is (242,)\n",
            "Shape of y_test is (61,)\n"
          ]
        }
      ]
    },
    {
      "cell_type": "code",
      "source": [
        "models = [('LR', LogisticRegression(random_state=17, solver='lbfgs', max_iter=3000)),\n",
        "          ('CART', DecisionTreeClassifier(random_state=17)),\n",
        "          ('RF', RandomForestClassifier(random_state=17))]"
      ],
      "metadata": {
        "execution": {
          "iopub.status.busy": "2023-11-01T03:34:38.775048Z",
          "iopub.execute_input": "2023-11-01T03:34:38.775462Z",
          "iopub.status.idle": "2023-11-01T03:34:38.783710Z",
          "shell.execute_reply.started": "2023-11-01T03:34:38.775420Z",
          "shell.execute_reply": "2023-11-01T03:34:38.782427Z"
        },
        "trusted": true,
        "id": "1-TzSbF5P-Zy"
      },
      "execution_count": 26,
      "outputs": []
    },
    {
      "cell_type": "code",
      "source": [
        "for name, model in models:\n",
        "    cv_results = cross_validate(model, X, y, cv=10, scoring=['accuracy', 'f1', 'roc_auc', 'precision', 'recall'])\n",
        "    print(f'########## {name} ##########')\n",
        "    print(f'Accuracy: {round(cv_results[\"test_accuracy\"].mean(), 4)}')\n",
        "    print(f'Auc: {round(cv_results[\"test_roc_auc\"].mean(), 4)}')\n",
        "    print(f'Recall: {round(cv_results[\"test_recall\"].mean(), 4)}')\n",
        "    print(f'Precision: {round(cv_results[\"test_precision\"].mean(), 4)}')\n",
        "    print(f'F1: {round(cv_results[\"test_f1\"].mean(), 4)}')"
      ],
      "metadata": {
        "execution": {
          "iopub.status.busy": "2023-11-01T03:34:42.225674Z",
          "iopub.execute_input": "2023-11-01T03:34:42.226270Z",
          "iopub.status.idle": "2023-11-01T03:35:10.029762Z",
          "shell.execute_reply.started": "2023-11-01T03:34:42.226221Z",
          "shell.execute_reply": "2023-11-01T03:35:10.028134Z"
        },
        "trusted": true,
        "id": "bUF6BZAHP-Zz",
        "outputId": "4087c0dd-b57f-4543-b2a2-41d065fc2c3e",
        "colab": {
          "base_uri": "https://localhost:8080/"
        }
      },
      "execution_count": 27,
      "outputs": [
        {
          "output_type": "stream",
          "name": "stdout",
          "text": [
            "########## LR ##########\n",
            "Accuracy: 0.8613\n",
            "Auc: 0.921\n",
            "Recall: 0.8897\n",
            "Precision: 0.8638\n",
            "F1: 0.8741\n",
            "########## CART ##########\n",
            "Accuracy: 0.7361\n",
            "Auc: 0.7354\n",
            "Recall: 0.7522\n",
            "Precision: 0.7624\n",
            "F1: 0.7542\n",
            "########## RF ##########\n",
            "Accuracy: 0.792\n",
            "Auc: 0.8954\n",
            "Recall: 0.8051\n",
            "Precision: 0.8148\n",
            "F1: 0.8062\n"
          ]
        }
      ]
    },
    {
      "cell_type": "markdown",
      "source": [
        "<a id=\"section-nine\"></a>\n",
        "# **TO-DO**\n",
        "* Değişkenler arası bağlantılar detaylı incelenebilir.\n",
        "    - Uni-variate\n",
        "    - Bi-Variate\n",
        "    - Multi-Variate\n",
        "* Alan bilgisi (domain knowledge) ile yeni değişkenler elde edilebilir.\n",
        "* Yeni modeller/algoritmalar ve çeşitli teknikler ile eğitim güçlendirelebilir.\n",
        "* Hiper-parametre optimizasyonu yapılabilir.\n",
        "    - GridSearch\n",
        "    - RandomSearch\n",
        "    - ...\n",
        "* Değişkenlerin önem dereceleri gözlemlendikten sonra gerekli aksiyonlar alınabilir.\n"
      ],
      "metadata": {
        "id": "kv7zOJZBP-Zz"
      }
    }
  ]
}